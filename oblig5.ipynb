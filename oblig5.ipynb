{
 "cells": [
  {
   "cell_type": "markdown",
   "metadata": {},
   "source": [
    "## Øving 5: Poissonfordeling, eksponentialfordeling, weibullfordeling og levetid"
   ]
  },
  {
   "cell_type": "code",
   "execution_count": 296,
   "metadata": {},
   "outputs": [],
   "source": [
    "import numpy as np\n",
    "import scipy.stats as stats"
   ]
  },
  {
   "cell_type": "markdown",
   "metadata": {},
   "source": [
    "# Oppgave 1"
   ]
  },
  {
   "cell_type": "code",
   "execution_count": 297,
   "metadata": {},
   "outputs": [
    {
     "name": "stdout",
     "output_type": "stream",
     "text": [
      "Probability of X=6: 0.14652511110987343\n",
      "Probability of X<=6: 0.8893260215974264\n"
     ]
    }
   ],
   "source": [
    "# Define the mean (λ) for wer Poisson distribution\n",
    "mean_lambda = 4  # Replace with wer desired mean value\n",
    "\n",
    "# Define the specific value of X for which we want to find the probability\n",
    "x = 2  # Replace with the desired value of x\n",
    "\n",
    "# Calculate the probability of X=x using the PMF\n",
    "probability_x_equals_x = stats.poisson.pmf(x, mean_lambda)\n",
    "\n",
    "# Define the specific value of X for which we want to find the probability\n",
    "x = 6  # Replace with the desired value of x\n",
    "\n",
    "# Calculate the probability of X<=x using the CDF\n",
    "probability_x_less_than_or_equal_to_x = stats.poisson.cdf(x, mean_lambda)\n",
    "\n",
    "# Print the results\n",
    "print(f\"Probability of X={x}: {probability_x_equals_x}\")\n",
    "print(f\"Probability of X<={x}: {probability_x_less_than_or_equal_to_x}\")\n"
   ]
  },
  {
   "cell_type": "markdown",
   "metadata": {},
   "source": [
    "# Oppgave 2"
   ]
  },
  {
   "cell_type": "code",
   "execution_count": 298,
   "metadata": {},
   "outputs": [
    {
     "name": "stdout",
     "output_type": "stream",
     "text": [
      "Expected Value E[X]: 4.0000\n",
      "Probability of 4 errors in 4 minutes: 0.1954\n",
      "Probability of more than 5 errors in 4 minutes: 0.2149\n"
     ]
    }
   ],
   "source": [
    "# Define the mean (λ) for the Poisson distribution\n",
    "mean_lambda = 1  # Error rate per minute\n",
    "t = 4  # Time duration in minutes\n",
    "\n",
    "# Calculate E[X]\n",
    "expected_value = mean_lambda * t\n",
    "\n",
    "# Calculate the probability of 4 errors in 4 minutes\n",
    "probability_4_errors = stats.poisson.pmf(4, expected_value)\n",
    "\n",
    "# Calculate the probability of more than 5 errors in 4 minutes\n",
    "probability_more_than_5_errors = 1 - stats.poisson.cdf(5, expected_value)\n",
    "\n",
    "# Print the results\n",
    "print(f\"Expected Value E[X]: {expected_value:.4f}\")\n",
    "print(f\"Probability of 4 errors in 4 minutes: {probability_4_errors:.4f}\")\n",
    "print(f\"Probability of more than 5 errors in 4 minutes: {probability_more_than_5_errors:.4f}\")\n"
   ]
  },
  {
   "cell_type": "markdown",
   "metadata": {},
   "source": [
    "# Oppgave 3"
   ]
  },
  {
   "cell_type": "code",
   "execution_count": 299,
   "metadata": {},
   "outputs": [
    {
     "name": "stdout",
     "output_type": "stream",
     "text": [
      "Expected Value E[X]: 6.7900\n",
      "Probability of 11 errors: 0.0399\n",
      "Probability of less than or exactly 5 errors: 0.3283\n",
      "Probability of more than 3, but less than or exactly 7 errors: 0.5366\n"
     ]
    }
   ],
   "source": [
    "# State expected value\n",
    "expected_value = 6.79\n",
    "\n",
    "# Calculate the probability of 11 errors\n",
    "probability_4_errors = stats.poisson.pmf(11, expected_value)\n",
    "\n",
    "# Calculate the probability of less than or exactly 5 errors\n",
    "probability_5_errors = stats.poisson.cdf(5, expected_value)\n",
    "\n",
    "# Calculate the probability of more than 3, but less than or exactly 7 errors\n",
    "probability_more_than_3_less_than_8_errors = (1 - stats.poisson.cdf(3, expected_value)) - (1 - stats.poisson.cdf(7, expected_value))\n",
    "\n",
    "# Print the results\n",
    "print(f\"Expected Value E[X]: {expected_value:.4f}\")\n",
    "print(f\"Probability of 11 errors: {probability_4_errors:.4f}\")\n",
    "print(f\"Probability of less than or exactly 5 errors: {probability_5_errors:.4f}\")\n",
    "print(f\"Probability of more than 3, but less than or exactly 7 errors: {probability_more_than_3_less_than_8_errors:.4f}\")\n"
   ]
  },
  {
   "cell_type": "markdown",
   "metadata": {},
   "source": [
    "# Oppgave 4"
   ]
  },
  {
   "cell_type": "code",
   "execution_count": 300,
   "metadata": {},
   "outputs": [
    {
     "name": "stdout",
     "output_type": "stream",
     "text": [
      "The maturity of the distribution (x with largest probability) is: 11\n"
     ]
    }
   ],
   "source": [
    "# Define the daily rate (λ_daily)\n",
    "lambda_daily = 0.47 * 24\n",
    "\n",
    "# Initialize variables to keep track of the maximum probability and corresponding x\n",
    "max_probability = 0\n",
    "maturity_x = None\n",
    "\n",
    "# Calculate the probability for values of x from 0 to 100 (adjust as needed)\n",
    "for x in range(101):\n",
    "    probability = stats.poisson.pmf(x, lambda_daily)\n",
    "    if probability > max_probability:\n",
    "        max_probability = probability\n",
    "        maturity_x = x\n",
    "\n",
    "# Print the maturity of the distribution\n",
    "print(f\"The maturity of the distribution (x with largest probability) is: {maturity_x}\")"
   ]
  },
  {
   "cell_type": "markdown",
   "metadata": {},
   "source": [
    "# Oppgave 5"
   ]
  },
  {
   "cell_type": "code",
   "execution_count": 301,
   "metadata": {},
   "outputs": [
    {
     "name": "stdout",
     "output_type": "stream",
     "text": [
      "Probability of exactly 0 bacteria: 0.1353\n"
     ]
    }
   ],
   "source": [
    "expected_value = 2  # E[X]\n",
    "x = 0  # Number of bacteria we're interested in\n",
    "\n",
    "probability_x_equals_0 = stats.poisson.pmf(x, expected_value)\n",
    "print(f\"Probability of exactly {x} bacteria: {probability_x_equals_0:.4f}\")\n"
   ]
  },
  {
   "cell_type": "code",
   "execution_count": 302,
   "metadata": {},
   "outputs": [
    {
     "name": "stdout",
     "output_type": "stream",
     "text": [
      "Conditional Probability P(X > 2 | X > 0): 0.3739\n"
     ]
    }
   ],
   "source": [
    "expected_value = 2  # E[X]\n",
    "x = 2  # The value of x we're interested in (X > x)\n",
    "\n",
    "# Calculate the probability that X is greater than x and greater than 0\n",
    "probability_x_more_than_x_and_more_than_0 = (1 - stats.poisson.cdf(x, expected_value))\n",
    "\n",
    "# Calculate the probability that X is greater than 0\n",
    "probability_x_more_than_0 = (1 - stats.poisson.cdf(0, expected_value))\n",
    "\n",
    "# Calculate the conditional probability P(X > x | X > 0)\n",
    "conditional_probability = probability_x_more_than_x_and_more_than_0 / probability_x_more_than_0\n",
    "\n",
    "print(f\"Conditional Probability P(X > {x} | X > 0): {conditional_probability:.4f}\")\n"
   ]
  },
  {
   "cell_type": "markdown",
   "metadata": {},
   "source": [
    "For a Poisson Distribution the Standard Deviation is given as:\n",
    "$\\sigma=\\sqrt{\\mu}$"
   ]
  },
  {
   "cell_type": "code",
   "execution_count": 303,
   "metadata": {},
   "outputs": [
    {
     "name": "stdout",
     "output_type": "stream",
     "text": [
      "Standard Deviation: 1.4142\n"
     ]
    }
   ],
   "source": [
    "print(f'Standard Deviation: {np.sqrt(expected_value):.4f}')"
   ]
  },
  {
   "cell_type": "markdown",
   "metadata": {},
   "source": [
    "# Oppgave 6"
   ]
  },
  {
   "cell_type": "markdown",
   "metadata": {},
   "source": [
    "The probability that the next 10 kilometers are error-free can be calculated using the exponential distribution's probability density function:\n",
    "\n",
    "$$\\operatorname{P}\\left(X>x\\right)=e^{-\\lambda x}$$\n",
    "\n",
    "In this expression:\n",
    "\n",
    "- P(X > x) represents the probability that the length of cable between faults (X) is greater than (x) kilometers.\n",
    "- $\\lambda$ is the rate parameter, given as 0.16 per kilometer in this scenario.\n",
    "- $x$ is the length of cable, which is 10 kilometers in this case.\n",
    "\n",
    "To calculate the probability, substitute the values of λ and x into the expression and compute: $$e^{-\\lambda x}$$"
   ]
  },
  {
   "cell_type": "code",
   "execution_count": 304,
   "metadata": {},
   "outputs": [
    {
     "name": "stdout",
     "output_type": "stream",
     "text": [
      "Probability that the next 10 kilometers are error-free: 0.2019\n"
     ]
    }
   ],
   "source": [
    "# Given rate parameter\n",
    "lambda_rate = 0.16  # per kilometer\n",
    "\n",
    "# Length for the next 10 kilometers\n",
    "x = 10  # kilometers\n",
    "\n",
    "# Calculate the probability that the next 10 kilometers are error-free\n",
    "probability_next_10_kilometers_error_free = np.exp(-lambda_rate * x)\n",
    "\n",
    "print(f\"Probability that the next 10 kilometers are error-free: {probability_next_10_kilometers_error_free:.4f}\")\n"
   ]
  },
  {
   "cell_type": "markdown",
   "metadata": {},
   "source": [
    "# Oppgave 7"
   ]
  },
  {
   "cell_type": "markdown",
   "metadata": {},
   "source": [
    "(a) To find the probability that the lifetime of the selected battery is greater than 15 hours, we can use the exponential distribution.\n",
    "For each type of battery (A and B), we can calculate the probability that the lifetime is greater than 15 hours and then use the law of total probability to find the overall probability.\n",
    "\n",
    "The exponential probability density function for a battery's lifetime is given by:\n",
    "\n",
    "$$f{\\left(x\\right)}=\\lambda e^{-\\lambda x}$$\n",
    "\n",
    "Where:\n",
    "- $\\lambda$ is the rate parameter (reciprocal of the mean or expectation), and $x$ is the lifetime.\n",
    "\n",
    "For type A batteries:\n",
    " $$\\lambda_A=\\frac{1}{11.0}$$\n",
    "\n",
    "For type B batteries:\n",
    "$$\\lambda_B=\\frac{1}{19.5}$$\n",
    "\n",
    "Let $X$ be the event that the selected battery is type A, and $Y$ be the event that the selected battery is type B.\n",
    "\n",
    "The probability that the lifetime is greater than 15 hours can be calculated as follows:\n",
    "\n",
    "$$P(\\text{lifetime} > 15) = P(\\text{lifetime} > 15 | X)\\cdot P(X) + P(\\text{lifetime} > 15 | Y)\\cdot P(Y)$$\n",
    "\n",
    "We know that P(X) is the probability of selecting type A battery, and P(Y) is the probability of selecting type B battery.\n",
    "\n",
    "$$P(X) = \\frac{\\text{Number of type A batteries}}{\\text{Total number of batteries}} = \\frac{1}{7}\\approx 1.667$$\n",
    "$$P(Y) = \\frac{\\text{Number of type B batteries}}{\\text{Total number of batteries}} = \\frac{6}{7}\\approx 0.857$$\n",
    "\n",
    "Now, calculate the probabilities: $$ P(\\text{lifetime} > 15 | X) $$ $$ P(\\text{lifetime} > 15 | Y) $$ for type A and type B batteries, respectively, and then apply the formula."
   ]
  },
  {
   "cell_type": "code",
   "execution_count": 305,
   "metadata": {},
   "outputs": [
    {
     "name": "stdout",
     "output_type": "stream",
     "text": [
      "Probability that lifetime > 15 hours: 0.434\n"
     ]
    }
   ],
   "source": [
    "# Rate parameters\n",
    "lambda_A = 1 / 11.0\n",
    "lambda_B = 1 / 19.5\n",
    "\n",
    "# Probabilities of selecting each type of battery\n",
    "P_X = 1 / 7\n",
    "P_Y = 6 / 7\n",
    "\n",
    "# Probability that lifetime is greater than 15 hours for type A\n",
    "P_lifetime_gt_15_given_X = 1 - (1 - np.exp(-lambda_A * 15))\n",
    "\n",
    "# Probability that lifetime is greater than 15 hours for type B\n",
    "P_lifetime_gt_15_given_Y = 1 - (1 - np.exp(-lambda_B * 15))\n",
    "\n",
    "# Calculate the overall probability\n",
    "P_lifetime_gt_15 = P_lifetime_gt_15_given_X * P_X + P_lifetime_gt_15_given_Y * P_Y\n",
    "\n",
    "print(f\"Probability that lifetime > 15 hours: {P_lifetime_gt_15:.3f}\")"
   ]
  },
  {
   "cell_type": "markdown",
   "metadata": {},
   "source": [
    "(b) To find the probability that, given the lifetime of the selected battery is greater than 15 hours, it is a type B battery, we can use Bayes' theorem:\n",
    "\n",
    "$$P(Y | \\text{lifetime} > 15) = \\frac{P(\\text{lifetime} > 15 | Y)\\cdot P(Y)}{P(\\text{lifetime} > 15)}$$\n",
    "\n",
    "We've already calculated  $$P(\\text{lifetime} > 15 | Y)$$ in part (a), and P(Y) is known. We also have  $$P(\\text{lifetime} > 15)$$ from part (a)."
   ]
  },
  {
   "cell_type": "code",
   "execution_count": 306,
   "metadata": {},
   "outputs": [
    {
     "name": "stdout",
     "output_type": "stream",
     "text": [
      "Probability that it's type B given lifetime > 15: 0.916\n"
     ]
    }
   ],
   "source": [
    "# Calculate the conditional probability using Bayes' theorem\n",
    "P_Y_given_lifetime_gt_15 = (P_lifetime_gt_15_given_Y * P_Y) / P_lifetime_gt_15\n",
    "\n",
    "print(f\"Probability that it's type B given lifetime > 15: {P_Y_given_lifetime_gt_15:.3f}\")"
   ]
  },
  {
   "cell_type": "markdown",
   "metadata": {},
   "source": [
    "# Oppgave 8"
   ]
  },
  {
   "cell_type": "markdown",
   "metadata": {},
   "source": [
    "**a) What is the probability that the device will work after 4000 hours of operation?**\n",
    "\n",
    "In this case, we have an exponentially distributed lifetime with an expectation (mean: $\\mu$) of 4000 hours. The probability that the device will work after 4000 hours is given by:\n",
    "\n",
    "$$P(\\text{device works after 4000 hours}) = e^{-\\lambda t}$$\n",
    "\n",
    "Where:\n",
    "- $\\lambda$ is the rate parameter, which is the reciprocal of the expectation, so $\\lambda = \\frac{1}{4000}$.\n",
    "- $t$ is the time in hours, which is 4000 hours in this case."
   ]
  },
  {
   "cell_type": "code",
   "execution_count": 307,
   "metadata": {},
   "outputs": [
    {
     "name": "stdout",
     "output_type": "stream",
     "text": [
      "Probability that the device works after 4000 hours: 0.368\n"
     ]
    }
   ],
   "source": [
    "# Rate parameter\n",
    "lambda_param = 1 / 4000\n",
    "\n",
    "# Time in hours\n",
    "t = 4000\n",
    "\n",
    "# Calculate the probability that the device will work after 4000 hours\n",
    "probability_works_after_4000_hours = np.exp(-lambda_param * t)\n",
    "\n",
    "print(f\"Probability that the device works after 4000 hours: {probability_works_after_4000_hours:.3f}\")"
   ]
  },
  {
   "cell_type": "markdown",
   "metadata": {},
   "source": [
    "**b) If we know that the unit works after 4000 hours, what is the probability that it will still work for at least another 1000 hours?**\n",
    "\n",
    "This is a conditional probability problem. Given that the unit works after 4000 hours, we want to find the probability that it will work for at least another 1000 hours.\n",
    "\n",
    "we can use the memoryless property of the exponential distribution for this calculation:\n",
    "\n",
    "$$P(\\text{device works for at least another 1000 hours} | \\text{works after 4000 hours}) = P(\\text{device works for at least 1000 hours})$$\n",
    "\n",
    "The probability that the device will work for at least 1000 hours is given by:\n",
    "\n",
    "$$P(\\text{device works for at least 1000 hours}) = e^{-\\lambda t}$$\n",
    "\n",
    "Where $\\lambda$ is still the same rate parameter, and $t$ is the additional time, which is 1000 hours."
   ]
  },
  {
   "cell_type": "code",
   "execution_count": 308,
   "metadata": {},
   "outputs": [
    {
     "name": "stdout",
     "output_type": "stream",
     "text": [
      "Probability that the device works for at least another 1000 hours: 0.779\n"
     ]
    }
   ],
   "source": [
    "# Additional time in hours\n",
    "additional_time = 1000\n",
    "\n",
    "# Calculate the probability that the device will work for at least another 1000 hours\n",
    "probability_works_for_another_1000_hours = np.exp(-lambda_param * additional_time)\n",
    "\n",
    "print(f\"Probability that the device works for at least another 1000 hours: {probability_works_for_another_1000_hours:.3f}\")"
   ]
  },
  {
   "cell_type": "markdown",
   "metadata": {},
   "source": [
    "Now, let's address the Weibull distribution:\n",
    "\n",
    "**c) What is the probability that the device will work after 4000 hours of operation?**\n",
    "\n",
    "In the Weibull distribution, with parameters $\\lambda = \\frac{1}{4000}$ and $\\alpha = 2$, the probability that the device will work after 4000 hours is given by:\n",
    "\n",
    "$$P(\\text{device works after 4000 hours}) = e^{-(\\lambda t)^\\alpha}$$\n",
    "\n",
    "Where $t$ is still 4000 hours."
   ]
  },
  {
   "cell_type": "code",
   "execution_count": 309,
   "metadata": {},
   "outputs": [
    {
     "name": "stdout",
     "output_type": "stream",
     "text": [
      "Probability that the device works after 4000 hours (Weibull): 0.368\n"
     ]
    }
   ],
   "source": [
    "# Weibull parameters\n",
    "lambda_weibull = 1 / 4000\n",
    "alpha_weibull = 2\n",
    "\n",
    "# Calculate the probability that the device works after 4000 hours with the Weibull distribution\n",
    "probability_works_after_4000_hours_weibull = np.exp(-(lambda_weibull * t)**alpha_weibull)\n",
    "\n",
    "print(f\"Probability that the device works after 4000 hours (Weibull): {probability_works_after_4000_hours_weibull:.3f}\")"
   ]
  },
  {
   "cell_type": "markdown",
   "metadata": {},
   "source": [
    "**d) If we know that the unit works after 4000 hours, what is the probability that it will still work for at least another 1000 hours?**\n",
    "\n",
    "To correctly calculate the probability that the device will still work for at least another 1000 hours given that it has already worked for 4000 hours using the Weibull distribution, we should use the conditional probability formula:\n",
    "\n",
    "$$P(\\text{device works for at least another 1000 hours} | \\text{works after 4000 hours}) = \\frac{P(\\text{device works for at least 5000 hours})}{P(\\text{device works after 4000 hours})}$$\n",
    "\n",
    "The probability that the device will work for at least 1000 hours is given by:\n",
    "\n",
    "$$P(\\text{device works for at least t hours}) = e^{-(\\lambda t)^\\alpha}$$\n",
    "\n",
    "Where $t$ is the time, which is 4000 and 5000 hours respectivly, and the Weibull parameters $\\lambda$ and $\\alpha$ are the same as before.\n",
    "\n"
   ]
  },
  {
   "cell_type": "code",
   "execution_count": 310,
   "metadata": {},
   "outputs": [
    {
     "name": "stdout",
     "output_type": "stream",
     "text": [
      "Probability that the device will still work for at least another 1000 hours (Weibull): 0.570\n"
     ]
    }
   ],
   "source": [
    "# Additional time in hours\n",
    "additional_time_weibull = 1000\n",
    "\n",
    "# Calculate the probability that the device will work for at least 5000 hours with the Weibull distribution\n",
    "probability_works_for_at_least_5000_hours_weibull = np.exp(-(lambda_weibull * (t + additional_time_weibull))**alpha_weibull)\n",
    "\n",
    "# Calculate the probability that the device works after 4000 hours with the Weibull distribution\n",
    "probability_works_after_4000_hours_weibull = np.exp(-(lambda_weibull * t)**alpha_weibull)\n",
    "\n",
    "# Calculate the conditional probability\n",
    "conditional_probability_weibull = probability_works_for_at_least_5000_hours_weibull / probability_works_after_4000_hours_weibull\n",
    "\n",
    "print(f\"Probability that the device will still work for at least another 1000 hours (Weibull): {conditional_probability_weibull:.3f}\")"
   ]
  },
  {
   "cell_type": "markdown",
   "metadata": {},
   "source": [
    "# Oppgave 9"
   ]
  },
  {
   "cell_type": "markdown",
   "metadata": {},
   "source": [
    "**a) What is the probability that a randomly selected solar cell of this type works for at least 25 years?**\n",
    "\n",
    "In this case, we have a single solar cell with an exponentially distributed lifetime parameterized by $\\lambda = \\frac{1}{5000}$ per year. The probability that a single solar cell works for at least 25 years is given by:\n",
    "\n",
    "$$P(\\text{single cell works for at least 25 years}) = e^{-\\lambda t}$$\n",
    "\n",
    "Where:\n",
    "- $\\lambda$ is the rate parameter.\n",
    "- $t$ is the time in years, which is 25 years in this case."
   ]
  },
  {
   "cell_type": "code",
   "execution_count": 311,
   "metadata": {},
   "outputs": [
    {
     "name": "stdout",
     "output_type": "stream",
     "text": [
      "Probability that a single cell works for at least 25 years: 0.9950\n"
     ]
    }
   ],
   "source": [
    "# Rate parameter\n",
    "lambda_param = 1 / 5000  # per year\n",
    "\n",
    "# Time in years\n",
    "t = 25  # years\n",
    "\n",
    "# Calculate the probability that a single cell works for at least 25 years\n",
    "probability_single_cell_works_25_years = np.exp(-lambda_param * t)\n",
    "\n",
    "print(f\"Probability that a single cell works for at least 25 years: {probability_single_cell_works_25_years:.4f}\")"
   ]
  },
  {
   "cell_type": "markdown",
   "metadata": {},
   "source": [
    "**b) What is the probability that the entire solar panel (the series connection of the solar cells) works for at least 25 years?**\n",
    "\n",
    "To find the probability that the entire solar panel works for at least 25 years, we need all 96 solar cells in series to work for at least 25 years. Since the solar cells are connected in series, the probability that the entire solar panel works for at least 25 years is the product of the probabilities that each individual cell works for at least 25 years.\n",
    "\n",
    "Let $A$ be the event that an individual cell works for at least 25 years. Since the cells are assumed to be independent, the probability that the entire solar panel works for at least 25 years is:\n",
    "\n",
    "$$P(\\text{panel works for at least 25 years}) = P(A)^{96} \\to P(\\text{panel works for at least 25 years}) = (e^{-\\lambda t})^{96}$$ "
   ]
  },
  {
   "cell_type": "code",
   "execution_count": 312,
   "metadata": {},
   "outputs": [
    {
     "name": "stdout",
     "output_type": "stream",
     "text": [
      "Probability that the entire solar panel works for at least 25 years: 0.6188\n"
     ]
    }
   ],
   "source": [
    "# Calculate the probability that the entire solar panel works for at least 25 years\n",
    "probability_panel_works_25_years = probability_single_cell_works_25_years ** 96\n",
    "\n",
    "print(f\"Probability that the entire solar panel works for at least 25 years: {probability_panel_works_25_years:.4f}\")"
   ]
  },
  {
   "cell_type": "markdown",
   "metadata": {},
   "source": [
    "# Oppgave 10"
   ]
  },
  {
   "cell_type": "markdown",
   "metadata": {},
   "source": [
    "**a) Expected Lifetime of Drones from Manufacturer A:**\n",
    "\n",
    "For a Weibull distribution with parameters $\\alpha$ and $\\lambda$, the expected lifetime ($E[X]$) is given by:\n",
    "\n",
    "$$E[X] = \\frac{1}{\\lambda} \\cdot \\Gamma\\left(1 + \\frac{1}{\\alpha}\\right)$$\n",
    "\n",
    "Where:\n",
    "- $\\alpha$ is the shape parameter.\n",
    "- $\\lambda$ is the scale parameter.\n",
    "- $\\Gamma$ is the gamma function.\n",
    "\n",
    "The gamma function is defined as:\n",
    "\n",
    "$$\\Gamma(z) = \\int_{0}^{\\infty} t^{z-1}\\cdot e^{-t} dt$$\n",
    "\n",
    "For Manufacturer A, $\\alpha_A = 5$ and $\\lambda_A = \\frac{1}{900}$. Let's calculate the expected lifetime for Manufacturer A:\n",
    "\n"
   ]
  },
  {
   "cell_type": "code",
   "execution_count": 313,
   "metadata": {},
   "outputs": [],
   "source": [
    "import scipy.special as sp"
   ]
  },
  {
   "cell_type": "code",
   "execution_count": 314,
   "metadata": {},
   "outputs": [
    {
     "name": "stdout",
     "output_type": "stream",
     "text": [
      "Expected lifetime of drones from Manufacturer A: 826.35 hours\n"
     ]
    }
   ],
   "source": [
    "alpha_A = 5\n",
    "lambda_A = 1/900\n",
    "\n",
    "expected_lifetime_A = 1 / lambda_A * sp.gamma(1 + 1 / alpha_A)\n",
    "\n",
    "print(f\"Expected lifetime of drones from Manufacturer A: {expected_lifetime_A:.2f} hours\")"
   ]
  },
  {
   "cell_type": "markdown",
   "metadata": {},
   "source": [
    "**b) Expected Lifetime of Drones from Manufacturer B:**\n",
    "\n",
    "For Manufacturer B, $\\alpha_B = 4$ and $\\lambda_B = \\frac{1}{1000}$. Let's calculate the expected lifetime for Manufacturer B:"
   ]
  },
  {
   "cell_type": "code",
   "execution_count": 315,
   "metadata": {},
   "outputs": [
    {
     "name": "stdout",
     "output_type": "stream",
     "text": [
      "Expected lifetime of drones from Manufacturer B: 906.40 hours\n"
     ]
    }
   ],
   "source": [
    "alpha_B = 4\n",
    "lambda_B = 1/1000\n",
    "\n",
    "expected_lifetime_B = 1 / lambda_B * sp.gamma(1 + 1 / alpha_B)\n",
    "\n",
    "print(f\"Expected lifetime of drones from Manufacturer B: {expected_lifetime_B:.2f} hours\")"
   ]
  },
  {
   "cell_type": "markdown",
   "metadata": {},
   "source": [
    "**c) Probability that a Drone from Manufacturer A Works after 700 Hours:**\n",
    "\n",
    "The probability that a drone from Manufacturer A works after 700 hours is calculated as:\n",
    "\n",
    "$$P(X > 700) = e^{-(\\lambda_A t)^{\\alpha_A}}$$"
   ]
  },
  {
   "cell_type": "code",
   "execution_count": 316,
   "metadata": {},
   "outputs": [
    {
     "name": "stdout",
     "output_type": "stream",
     "text": [
      "Probability that a drone from Manufacturer A works after 700 hours: 0.752\n"
     ]
    }
   ],
   "source": [
    "t_A = 700\n",
    "\n",
    "probability_works_after_700_A = np.exp(-(lambda_A * t_A)**alpha_A)\n",
    "\n",
    "print(f\"Probability that a drone from Manufacturer A works after 700 hours: {probability_works_after_700_A:.3f}\")"
   ]
  },
  {
   "cell_type": "markdown",
   "metadata": {},
   "source": [
    "**d) Probability that a Drone from Manufacturer B Works after 700 Hours:**\n",
    "\n",
    "Similarly, the probability that a drone from Manufacturer B works after 700 hours is calculated as:\n",
    "\n",
    "$$P(X > 700) = e^{-(\\lambda_B t)^{\\alpha_B}}$$"
   ]
  },
  {
   "cell_type": "code",
   "execution_count": 317,
   "metadata": {},
   "outputs": [
    {
     "name": "stdout",
     "output_type": "stream",
     "text": [
      "Probability that a drone from Manufacturer B works after 700 hours: 0.787\n"
     ]
    }
   ],
   "source": [
    "t_B = 700\n",
    "\n",
    "probability_works_after_700_B = np.exp(-(lambda_B * t_B)**alpha_B)\n",
    "\n",
    "print(f\"Probability that a drone from Manufacturer B works after 700 hours: {probability_works_after_700_B:.3f}\")"
   ]
  }
 ],
 "metadata": {
  "kernelspec": {
   "display_name": "Python 3",
   "language": "python",
   "name": "python3"
  },
  "language_info": {
   "codemirror_mode": {
    "name": "ipython",
    "version": 3
   },
   "file_extension": ".py",
   "mimetype": "text/x-python",
   "name": "python",
   "nbconvert_exporter": "python",
   "pygments_lexer": "ipython3",
   "version": "3.11.5"
  },
  "orig_nbformat": 4
 },
 "nbformat": 4,
 "nbformat_minor": 2
}
