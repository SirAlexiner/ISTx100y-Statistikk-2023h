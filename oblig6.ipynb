{
 "cells": [
  {
   "cell_type": "markdown",
   "metadata": {},
   "source": [
    "## Øving 6: Normalfordeling"
   ]
  },
  {
   "cell_type": "code",
   "execution_count": 174,
   "metadata": {},
   "outputs": [],
   "source": [
    "import numpy as np\n",
    "import scipy.stats as stats"
   ]
  },
  {
   "cell_type": "markdown",
   "metadata": {},
   "source": [
    "# Oppgave 1"
   ]
  },
  {
   "cell_type": "markdown",
   "metadata": {},
   "source": [
    "\n",
    "**a) Probability $P(Z < 1.71)$:**\n",
    "\n",
    "we can look up the cumulative probability for $Z = 1.71$ in the standard normal distribution table. \n",
    "\n",
    "Using a table or calculator, we will find that $P(Z < 1.71) \\approx 0.9564$.\n",
    "\n",
    "So, $P(Z < 1.71) \\approx 0.9564$.\n",
    "\n",
    "**b) Probability $P(1.68 < Z < 1.71)$:**\n",
    "\n",
    "To find this probability, we can calculate the difference between $P(Z < 1.71)$ and $P(Z < 1.68)$.\n",
    "\n",
    "Using the previous result from part (a), $P(Z < 1.71) \\approx 0.9564$.\n",
    "\n",
    "Now, we need to find $P(Z < 1.68)$ using the standard normal distribution table or calculator.\n",
    "\n",
    "$P(Z < 1.68) \\approx 0.9535$.\n",
    "\n",
    "Finally, subtract $P(Z < 1.68)$ from $P(Z < 1.71)$ to get $P(1.68 < Z < 1.71)$:\n",
    "\n",
    "$$P(1.68 < Z < 1.71) = P(Z < 1.71) - P(Z < 1.68)$$\n",
    "\n",
    "$$P(1.68 < Z < 1.71) \\approx 0.9564 - 0.9535 \\approx 0.0029$$\n",
    "\n",
    "So, $P(1.68 < Z < 1.71) \\approx 0.0029$."
   ]
  },
  {
   "cell_type": "code",
   "execution_count": 175,
   "metadata": {},
   "outputs": [
    {
     "name": "stdout",
     "output_type": "stream",
     "text": [
      "Probability P(Z < 1.71): 0.9564\n",
      "Probability P(1.68 < Z < 1.71): 0.0029\n"
     ]
    }
   ],
   "source": [
    "# For part (a): Probability P(Z < 1.71)\n",
    "z_a = 1.71\n",
    "probability_less_than_1_71 = stats.norm.cdf(z_a)\n",
    "\n",
    "# For part (b): Probability P(1.68 < Z < 1.71)\n",
    "z_lower_b = 1.68\n",
    "probability_less_than_1_68 = stats.norm.cdf(z_lower_b)\n",
    "\n",
    "# Calculate the difference to find the probability between 1.68 and 1.71\n",
    "probability_between_1_68_and_1_71 = round(probability_less_than_1_71, 4) - round(probability_less_than_1_68, 4)\n",
    "\n",
    "print(f\"Probability P(Z < 1.71): {probability_less_than_1_71:.4f}\")\n",
    "print(f\"Probability P(1.68 < Z < 1.71): {probability_between_1_68_and_1_71:.4f}\")\n"
   ]
  },
  {
   "cell_type": "markdown",
   "metadata": {},
   "source": [
    "# Oppgave 2"
   ]
  },
  {
   "cell_type": "markdown",
   "metadata": {},
   "source": [
    "To find the probabilities for the normal distribution with a mean ($\\mu$) of 3.3 and a standard deviation ($\\sigma$) of 2.5, we can first standardize the random variable $X$ to a standard normal variable $Z$ and then use the standard normal distribution tables or a calculator.\n",
    "\n",
    "**a) Probability $P(X > 2.5)$:**\n",
    "\n",
    "First, standardize the value 2.5 to $Z$ using the formula:\n",
    "\n",
    "$$Z = \\frac{X - \\mu}{\\sigma}$$\n",
    "\n",
    "Where:\n",
    "- $X = 2.5$ (the value we want to find the probability for)\n",
    "- $\\mu = 3.3$ (mean)\n",
    "- $\\sigma = 2.5$ (standard deviation)\n",
    "\n",
    "Now, calculate $Z$:\n",
    "\n",
    "$$Z = \\frac{2.5 - 3.3}{2.5}$$\n",
    "\n",
    "Using this value of $Z$, we can find $P(Z > Z_{\\text{calculated}})$ from the standard normal distribution tables."
   ]
  },
  {
   "cell_type": "code",
   "execution_count": 176,
   "metadata": {},
   "outputs": [
    {
     "name": "stdout",
     "output_type": "stream",
     "text": [
      "Probability P(X > 2.5): 0.6255\n"
     ]
    }
   ],
   "source": [
    "\n",
    "# Parameters for the original distribution\n",
    "mu = 3.3\n",
    "sigma = 2.5\n",
    "\n",
    "# Value we want to find the probability for\n",
    "x = 2.5\n",
    "\n",
    "# Standardize x to Z\n",
    "z_calculated = (x - mu) / sigma\n",
    "\n",
    "# Calculate the probability P(X > 2.5)\n",
    "probability_x_greater_than_2_5 = 1 - stats.norm.cdf(z_calculated)\n",
    "\n",
    "print(f\"Probability P(X > 2.5): {probability_x_greater_than_2_5:.4f}\")"
   ]
  },
  {
   "cell_type": "markdown",
   "metadata": {},
   "source": [
    "**b) Probability $P(1.5 < X < 2.5)$:**\n",
    "\n",
    "Standardize both values 1.5 and 2.5 to $Z$ using the same formula as above. Then, we can find $P(Z_{\\text{lower}} < Z < Z_{\\text{upper}})$ from the standard normal distribution tables."
   ]
  },
  {
   "cell_type": "code",
   "execution_count": 177,
   "metadata": {},
   "outputs": [
    {
     "name": "stdout",
     "output_type": "stream",
     "text": [
      "Probability P(1.5 < X < 2.5): 0.1387\n"
     ]
    }
   ],
   "source": [
    "# Values we want to find the probability for\n",
    "x_lower = 1.5\n",
    "x_upper = 2.5\n",
    "\n",
    "# Standardize x_lower and x_upper to Z\n",
    "z_lower = (x_lower - mu) / sigma\n",
    "z_upper = (x_upper - mu) / sigma\n",
    "\n",
    "# Calculate the probability P(1.5 < X < 2.5)\n",
    "probability_between_1_5_and_2_5 = stats.norm.cdf(z_upper) - stats.norm.cdf(z_lower)\n",
    "\n",
    "print(f\"Probability P(1.5 < X < 2.5): {probability_between_1_5_and_2_5:.4f}\")"
   ]
  },
  {
   "cell_type": "markdown",
   "metadata": {},
   "source": [
    "# Oppgave 3"
   ]
  },
  {
   "cell_type": "markdown",
   "metadata": {},
   "source": [
    "To solve these probability questions, we can use the normal distribution with the given mean ($\\mu$) and standard deviation ($\\sigma$).\n",
    "\n",
    "**a) Probability that the sample value exceeds the threshold value $P(Y \\geq 12)$:**\n",
    "\n",
    "First, standardize the threshold value of 12 μg/dm³ to a z-score using the formula:\n",
    "\n",
    "$$Z = \\frac{Y - \\mu}{\\sigma}$$\n",
    "\n",
    "Where:\n",
    "- $Y = 12$ μg/dm³ (the threshold value)\n",
    "- $\\mu = 13$ μg/dm³ (mean)\n",
    "- $\\sigma = 2.0$ μg/dm³ (standard deviation)\n",
    "\n",
    "Now, calculate $Z$:\n",
    "\n",
    "$$Z = \\frac{12 - 13}{2.0}$$\n",
    "\n",
    "Using this value of $Z$, we can find $P(Y \\geq 12)$ from the standard normal distribution tables or using a calculator."
   ]
  },
  {
   "cell_type": "code",
   "execution_count": 178,
   "metadata": {},
   "outputs": [
    {
     "name": "stdout",
     "output_type": "stream",
     "text": [
      "Probability P(Y ≥ 12): 0.691\n"
     ]
    }
   ],
   "source": [
    "import scipy.stats as stats\n",
    "\n",
    "# Parameters for the distribution\n",
    "mu = 13  # μg/dm³\n",
    "sigma = 2.0  # μg/dm³\n",
    "\n",
    "# Threshold value\n",
    "threshold_value = 12  # μg/dm³\n",
    "\n",
    "# Standardize the threshold value to Z\n",
    "z_calculated = (threshold_value - mu) / sigma\n",
    "\n",
    "# Calculate the probability P(Y ≥ 12)\n",
    "probability_y_geq_12 = 1 - stats.norm.cdf(z_calculated)\n",
    "\n",
    "print(f\"Probability P(Y ≥ 12): {probability_y_geq_12:.3f}\")"
   ]
  },
  {
   "cell_type": "markdown",
   "metadata": {},
   "source": [
    "**b) Probability that the sample value is greater than 14 μg/dm³ given that it exceeds the threshold value $P(Y > 14 | Y > 12)$:**\n",
    "\n",
    "First, standardize the value 14 μg/dm³ to a z-score using the same formula as above.\n",
    "\n",
    "Now, calculate $P(Y > 14 | Y > 12)$:\n",
    "\n",
    "$$P(Y > 14 | Y > 12) = \\frac{P(Y > 14 \\cap Y > 12)}{P(Y > 12)}$$\n",
    "\n",
    "Using the properties of conditional probability, $P(Y > 14 \\cap Y > 12) = P(Y > 14)$, as the event $Y > 14$ implies $Y > 12$.\n",
    "\n",
    "So, we have:\n",
    "\n",
    "$$P(Y > 14 | Y > 12) = \\frac{P(Y > 14)}{P(Y > 12)}$$"
   ]
  },
  {
   "cell_type": "code",
   "execution_count": 179,
   "metadata": {},
   "outputs": [
    {
     "name": "stdout",
     "output_type": "stream",
     "text": [
      "Probability P(Y > 14 | Y > 12): 0.446\n"
     ]
    }
   ],
   "source": [
    "# Value we want to find the probability for\n",
    "value_greater_than_14 = 14  # μg/dm³\n",
    "\n",
    "# Standardize the value to Z\n",
    "z_greater_than_14 = (value_greater_than_14 - mu) / sigma\n",
    "\n",
    "# Calculate the probability P(Y > 14 | Y > 12)\n",
    "probability_y_gt_14_given_y_gt_12 = (1 - stats.norm.cdf(z_greater_than_14)) / (1 - stats.norm.cdf(z_calculated))\n",
    "\n",
    "print(f\"Probability P(Y > 14 | Y > 12): {probability_y_gt_14_given_y_gt_12:.3f}\")"
   ]
  },
  {
   "cell_type": "markdown",
   "metadata": {},
   "source": [
    "# Oppgave 4"
   ]
  },
  {
   "cell_type": "markdown",
   "metadata": {},
   "source": [
    "To solve these problems, we can use the binomial distribution for part (a) and the normal distribution for parts (b) and (c) with the given parameters.\n",
    "\n",
    "**a) For the binomially distributed variable X, calculate $P(X \\le 8)$:**\n",
    "\n",
    "We can calculate this directly using the binomial cumulative distribution function (CDF) for $X$ with $n = 35$ and $p = 0.2$. In Python, we can use the `scipy.stats` library to compute the CDF."
   ]
  },
  {
   "cell_type": "code",
   "execution_count": 180,
   "metadata": {},
   "outputs": [
    {
     "name": "stdout",
     "output_type": "stream",
     "text": [
      "P(X \\le 8): 0.745\n"
     ]
    }
   ],
   "source": [
    "n = 35\n",
    "p = 0.2\n",
    "x_a = 8\n",
    "\n",
    "probability_x_leq_8 = stats.binom.cdf(x_a, n, p)\n",
    "\n",
    "print(f\"P(X \\le 8): {probability_x_leq_8:.3f}\")"
   ]
  },
  {
   "cell_type": "markdown",
   "metadata": {},
   "source": [
    "**b) For the normally distributed variable Y, calculate $P(Y \\le 8)$:**\n",
    "\n",
    "we can calculate this using the cumulative distribution function (CDF) for a normal distribution with the given mean ($\\mu$) and standard deviation ($\\sigma$)."
   ]
  },
  {
   "cell_type": "code",
   "execution_count": 181,
   "metadata": {},
   "outputs": [
    {
     "name": "stdout",
     "output_type": "stream",
     "text": [
      "P(Y \\le 8): 0.664\n"
     ]
    }
   ],
   "source": [
    "mu = n * p\n",
    "sigma = (n * p * (1 - p))**0.5\n",
    "x_b = 8\n",
    "\n",
    "probability_y_leq_8 = stats.norm.cdf(x_b, loc=mu, scale=sigma)\n",
    "\n",
    "print(f\"P(Y \\le 8): {probability_y_leq_8:.3f}\")"
   ]
  },
  {
   "cell_type": "markdown",
   "metadata": {},
   "source": [
    "**c) For the normally distributed variable Y, calculate $P(Y \\le 8.5)$:**\n",
    "\n",
    "Calculate this by finding the cumulative probability up to $x = 8.5$ using the normal distribution."
   ]
  },
  {
   "cell_type": "code",
   "execution_count": 182,
   "metadata": {},
   "outputs": [
    {
     "name": "stdout",
     "output_type": "stream",
     "text": [
      "P(Y \\le 8.5): 0.737\n"
     ]
    }
   ],
   "source": [
    "x_c = 8.5\n",
    "\n",
    "probability_y_leq_8_5 = stats.norm.cdf(x_c, loc=mu, scale=sigma)\n",
    "\n",
    "print(f\"P(Y \\le 8.5): {probability_y_leq_8_5:.3f}\")"
   ]
  },
  {
   "cell_type": "markdown",
   "metadata": {},
   "source": [
    "# Oppgave 5"
   ]
  },
  {
   "cell_type": "markdown",
   "metadata": {},
   "source": [
    "**a) Probability that a randomly selected aluminum plate does not comply with the specification:**\n",
    "\n",
    "The specification is that the weight should not deviate by more than ±1 gram. To find the probability that a plate does not comply, we need to find the probability that the weight deviates by more than ±1 gram from 100 grams. In other words, we want to find $P(|X - 100| > 1)$, where $X$ is the weight of a plate.\n",
    "\n",
    "Since the weight follows a normal distribution with $\\mu = 100$ grams and $\\sigma = 0.6$ grams, we can standardize this to the standard normal distribution and find the probability.\n"
   ]
  },
  {
   "cell_type": "code",
   "execution_count": 183,
   "metadata": {},
   "outputs": [
    {
     "name": "stdout",
     "output_type": "stream",
     "text": [
      "Probability that a plate does not comply: 0.0956\n"
     ]
    }
   ],
   "source": [
    "import scipy.stats as stats\n",
    "\n",
    "mu = 100  # mean\n",
    "sigma = 0.6  # standard deviation\n",
    "\n",
    "# Calculate the z-scores for the upper and lower bounds\n",
    "z_upper = (101 - mu) / sigma\n",
    "z_lower = (99 - mu) / sigma\n",
    "\n",
    "# Use the z-scores to find the probabilities\n",
    "probability_not_comply = 1 - (stats.norm.cdf(z_upper) - stats.norm.cdf(z_lower))\n",
    "\n",
    "print(f\"Probability that a plate does not comply: {probability_not_comply:.4f}\")"
   ]
  },
  {
   "cell_type": "markdown",
   "metadata": {},
   "source": [
    "**b) Expected weight (in grams) of the box of 25 aluminum plates:**\n",
    "\n",
    "The expected weight of a single aluminum plate is 100 grams. Since there are 25 plates in a box, the expected weight of the box is $25 \\times 100 + 50\\text{ (weight of the box)} = 2550$ grams.\n",
    "\n",
    "**c) Variance (in grams²) of the box of 25 aluminum plates:**\n",
    "\n",
    "The variance of a single aluminum plate is $\\sigma^2 = (0.6)^2 = 0.36$ grams². Since the plates are independent, the variance of the box of 25 plates is $25 \\times 0.36 = 9$ grams².\n",
    "\n",
    "**d) Probability that the box of 25 aluminum plates weighs less than 2545 grams:**\n",
    "\n",
    "To find this probability, we need to calculate $P(X < 2545)$, where $X$ is the weight of the box of 25 aluminum plates.\n",
    "\n",
    "The variance of the box is \n",
    "$25\\cdot (0.6)^2=9\\text{ grams}^2$, and so the standard deviation of the box is \n",
    "$\\sqrt{9}=3\\text{ grams}$."
   ]
  },
  {
   "cell_type": "code",
   "execution_count": 184,
   "metadata": {},
   "outputs": [
    {
     "name": "stdout",
     "output_type": "stream",
     "text": [
      "Probability that the box weighs less than 2545 grams: 0.0478\n"
     ]
    }
   ],
   "source": [
    "box_weight = 25 * mu + 50  # Total weight of the box\n",
    "box_std_dev = 3  # Updated standard deviation for the box\n",
    "\n",
    "# Calculate the z-score for 2545 grams\n",
    "z = (2545 - box_weight) / box_std_dev\n",
    "\n",
    "# Use the z-score to find the probability\n",
    "probability_box_weight_less_than_2545 = stats.norm.cdf(z)\n",
    "\n",
    "print(f\"Probability that the box weighs less than 2545 grams: {probability_box_weight_less_than_2545:.4f}\")\n"
   ]
  },
  {
   "cell_type": "markdown",
   "metadata": {},
   "source": [
    "# Oppgave 6"
   ]
  },
  {
   "cell_type": "markdown",
   "metadata": {},
   "source": [
    "The central limit theorem tells us that the distribution of the sample mean ($\\bar{X}$) for a sufficiently large number of samples (in this case, 33 machines) will be approximately normally distributed, regardless of the underlying distribution of individual machine stops.\n",
    "\n",
    "Given that the individual machines have a Poisson distribution with an expected value of 4, the expected value of the sample mean ($\\bar{X}$) is equal to the population mean ($\\mu$):\n",
    "\n",
    "$$\\text{Expected value of } \\bar{X} = \\mu = 4$$\n",
    "\n",
    "Now, for the standard deviation of the sample mean ($\\bar{X}$), you can use the following formula:\n",
    "\n",
    "$$\\text{Standard Deviation of } \\bar{X} = \\frac{\\sigma}{\\sqrt{n}}$$\n",
    "\n",
    "Where:\n",
    "- $\\sigma$ is the standard deviation of the individual machine stops, which is the square root of the expected value for a Poisson distribution: $\\sigma = \\sqrt{4} = 2$.\n",
    "- $n$ is the number of samples (number of machines), which is 33 in this case.\n",
    "\n",
    "Plugging in these values:\n",
    "\n",
    "$$\\text{Standard Deviation of } \\bar{X} = \\frac{2}{\\sqrt{33}}$$"
   ]
  },
  {
   "cell_type": "code",
   "execution_count": 185,
   "metadata": {},
   "outputs": [
    {
     "name": "stdout",
     "output_type": "stream",
     "text": [
      "Expected value of sample mean: 4.000\n",
      "Standard Deviation of sample mean: 0.348\n"
     ]
    }
   ],
   "source": [
    "mu = 4  # Expected value of individual machine stops\n",
    "n = 33  # Number of machines\n",
    "\n",
    "expected_value_sample_mean = mu\n",
    "std_dev_sample_mean = np.sqrt(mu) / np.sqrt(n)\n",
    "\n",
    "print(f\"Expected value of sample mean: {expected_value_sample_mean:.3f}\")\n",
    "print(f\"Standard Deviation of sample mean: {std_dev_sample_mean:.3f}\")"
   ]
  },
  {
   "cell_type": "markdown",
   "metadata": {},
   "source": [
    "# Oppgave 7"
   ]
  },
  {
   "cell_type": "markdown",
   "metadata": {},
   "source": [
    "To find the probability that the mean of a sample of size 11 falls between 67.7 cm and 68.3 cm, given that the process is under control, we can use the properties of the normal distribution. \n",
    "\n",
    "First, we need to calculate the standard deviation of the sample mean ($\\bar{X}$) for a sample size of 11. The standard deviation of the sample mean ($\\sigma_{\\bar{X}}$) is given by:\n",
    "\n",
    "$$\\sigma_{\\bar{X}} = \\frac{\\sigma}{\\sqrt{n}}$$\n",
    "\n",
    "Where:\n",
    "- $\\sigma$ is the standard deviation of the individual measurements, which is 0.5 cm.\n",
    "- $n$ is the sample size, which is 11 in this case.\n",
    "\n",
    "Plugging in these values:\n",
    "\n",
    "$$\\sigma_{\\bar{X}} = \\frac{0.5}{\\sqrt{11}}$$\n",
    "\n",
    "Now, we can calculate the z-scores for both 67.7 cm and 68.3 cm:\n",
    "\n",
    "$$Z_{\\text{lower}} = \\frac{67.7 - \\mu}{\\sigma_{\\bar{X}}}$$\n",
    "$$Z_{\\text{upper}} = \\frac{68.3 - \\mu}{\\sigma_{\\bar{X}}}$$\n",
    "\n",
    "Where:\n",
    "- $\\mu$ is the population mean, which is 68 cm.\n",
    "- $\\sigma_{\\bar{X}}$ is the standard deviation of the sample mean.\n",
    "\n",
    "Now, we can use the z-scores to find the probabilities:\n",
    "\n",
    "$$P(67.7 \\le \\bar{X} \\le 68.3) = P(Z_{\\text{lower}} \\le Z \\le Z_{\\text{upper}})$$"
   ]
  },
  {
   "cell_type": "code",
   "execution_count": 186,
   "metadata": {},
   "outputs": [
    {
     "name": "stdout",
     "output_type": "stream",
     "text": [
      "Probability between 67.7 cm and 68.3 cm: 0.953\n"
     ]
    }
   ],
   "source": [
    "mu = 68  # population mean\n",
    "sigma = 0.5  # standard deviation of individual measurements\n",
    "n = 11  # sample size\n",
    "\n",
    "# Calculate the standard deviation of the sample mean\n",
    "std_dev_sample_mean = sigma / (n**0.5)\n",
    "\n",
    "# Calculate the z-scores for 67.7 cm and 68.3 cm\n",
    "z_lower = (67.7 - mu) / std_dev_sample_mean\n",
    "z_upper = (68.3 - mu) / std_dev_sample_mean\n",
    "\n",
    "# Use the z-scores to find the probability\n",
    "probability_between_67_7_and_68_3 = stats.norm.cdf(z_upper) - stats.norm.cdf(z_lower)\n",
    "\n",
    "print(f\"Probability between 67.7 cm and 68.3 cm: {probability_between_67_7_and_68_3:.3f}\")"
   ]
  },
  {
   "cell_type": "markdown",
   "metadata": {},
   "source": [
    "# Oppgave 8"
   ]
  },
  {
   "cell_type": "markdown",
   "metadata": {},
   "source": [
    "To find the highest speed you can go without being stopped, you need to find the critical value (z-score) of the normal distribution that corresponds to the 80th percentile. In other words, you want to find the speed ($X$) such that only 20% of motorists drive faster than $X$.\n",
    "\n",
    "Given the information:\n",
    "- The speed of motorists on this road follows a normal distribution with an expectation ($\\mu$) of 90 km/h and a standard deviation ($\\sigma$) of 6 km/h.\n",
    "\n",
    "To find \\(X\\), you can use the cumulative distribution function (CDF) of the standard normal distribution. The CDF of the standard normal distribution is denoted as $\\Phi(z)$, where $z$ is the z-score. \n",
    "\n",
    "The z-score is calculated as:\n",
    "\n",
    "$$z = \\frac{X - \\mu}{\\sigma}$$\n",
    "\n",
    "You want to find the z-score ($z$) such that $\\Phi(z) = 0.80$ since you want to capture the fastest 20% of motorists.\n",
    "\n",
    "Now, you can use the z-score to find $X$:\n",
    "\n",
    "$$X = \\mu + z \\cdot \\sigma$$\n",
    "\n",
    "Substitute the given values:\n",
    "\n",
    "$$X = 90 + z \\cdot 6$$\n",
    "\n",
    "To find $z$ for $\\Phi(z) = 0.80$, you can use the percent point function (PPF) or quantile function, which is the inverse of the CDF:\n",
    "\n",
    "$$z = \\text{PPF}(0.80)$$"
   ]
  },
  {
   "cell_type": "code",
   "execution_count": 187,
   "metadata": {},
   "outputs": [
    {
     "name": "stdout",
     "output_type": "stream",
     "text": [
      "Highest speed without being stopped: 95.050 km/h\n"
     ]
    }
   ],
   "source": [
    "mean = 90  # Mean speed (in km/h)\n",
    "std_dev = 6  # Standard deviation of speed (in km/h)\n",
    "percentile = 0.80  # Desired percentile (80th percentile)\n",
    "\n",
    "# Use the percent point function (PPF) to find the critical value (z-score)\n",
    "critical_value = stats.norm.ppf(percentile)\n",
    "\n",
    "# Calculate the highest speed without being stopped\n",
    "highest_speed = mean + (critical_value * std_dev)\n",
    "\n",
    "print(f\"Highest speed without being stopped: {highest_speed:.3f} km/h\")\n"
   ]
  },
  {
   "cell_type": "markdown",
   "metadata": {},
   "source": [
    "# Oppgave 9"
   ]
  },
  {
   "cell_type": "markdown",
   "metadata": {},
   "source": [
    "To find the probability that a randomly selected nut can be screwed onto a randomly selected bolt, we need to calculate the probability that the nut's diameter is greater than the bolt's diameter. In other words, we want to find $P(\\text{Nut Diameter} > \\text{Bolt Diameter})$, this can be rewritten as $P([\\text{Nut Diameter} - \\text{Bolt Diameter}] > 0)$. We can simply this further by denoting $[\\text{Nut Diameter} - \\text{Bolt Diameter}] =Y$:\n",
    "\n",
    "$$P(Y > 0)$$\n",
    "\n",
    "Let's write the information given:\n",
    "- $\\mu_B$ = Expectation (mean) of bolt diameter = 15.8 mm\n",
    "- $\\sigma_B$ = Standard deviation of bolt diameter = 0.07 mm\n",
    "- $\\mu_N$ = Expectation (mean) of nut diameter = 16.0 mm\n",
    "- $\\sigma_N$ = Standard deviation of nut diameter = 0.07 mm\n",
    "\n",
    "We can now calculate the mean of $Y (\\mu_Y)$:\n",
    "\n",
    "$$\\mu_Y = \\mu_N - \\mu_B = 16.0 mm - 15.8 mm = 0.2 mm$$\n",
    "\n",
    "Then the standard deviation of $Y (\\sigma_Y)$:\n",
    "\n",
    "$$\\sigma_Y = \\sqrt{\\sigma_N^2 + \\sigma_B^2} = \\sqrt{0.07^2 + 0.07^2} = 0.099 mm$$\n",
    "\n",
    "We can now use the cumulative distribution function (CDF) of the normal distribution:\n",
    "\n",
    "$$P(Y > 0) = 1 - P(Y ≤ 0)$$\n",
    "\n",
    "CDF is denoted as:\n",
    "\n",
    "$$F(x) = \\frac{1}{2}\\cdot[1 + \\operatorname{erf}(\\frac{x - \\mu}{\\sigma \\cdot \\sqrt{2}})]$$\n",
    "\n",
    "The error function: $\\operatorname{erf}(z)$ is denoted as:\n",
    "$$\\operatorname{erf}(z)={\\frac {2}{\\sqrt {\\pi }}}\\int _{0}^{z}e^{-t^{2}}\\,\\mathrm {d} t$$"
   ]
  },
  {
   "cell_type": "code",
   "execution_count": 188,
   "metadata": {},
   "outputs": [
    {
     "name": "stdout",
     "output_type": "stream",
     "text": [
      "The probability that a randomly selected nut can be screwed onto a randomly selected bolt is: 0.978\n"
     ]
    }
   ],
   "source": [
    "# Define the parameters\n",
    "mu_B = 15.8\n",
    "sigma_B = 0.07\n",
    "mu_N = 16.0\n",
    "sigma_N = 0.07\n",
    "\n",
    "mean_Y = 0.2  # Mean of Y\n",
    "std_dev_Y = 0.099  # Standard deviation of Y\n",
    "\n",
    "# Calculate P(Y > 0)\n",
    "prob_Y_greater_than_zero = 1 - stats.norm.cdf(0, loc=mean_Y, scale=std_dev_Y)\n",
    "\n",
    "# Print the result\n",
    "print(f'The probability that a randomly selected nut can be screwed onto a randomly selected bolt is: {prob_Y_greater_than_zero:.3f}')"
   ]
  },
  {
   "cell_type": "markdown",
   "metadata": {},
   "source": [
    "# Oppgave 10"
   ]
  },
  {
   "cell_type": "markdown",
   "metadata": {},
   "source": [
    "\n",
    "**a) What proportion of the production must the company expect to be defective?**\n",
    "\n",
    "Cylinders with compressive strength below 180.5 kg/cm² are considered defective. To find the proportion of defective cylinders, we need to calculate the probability that a cylinder has a compressive strength below 180.5 kg/cm² using the given normal distribution parameters."
   ]
  },
  {
   "cell_type": "code",
   "execution_count": 189,
   "metadata": {},
   "outputs": [
    {
     "name": "stdout",
     "output_type": "stream",
     "text": [
      "Proportion of production expected to be defective: 0.0257\n"
     ]
    }
   ],
   "source": [
    "mean = 199.0  # Mean compressive strength (in kg/cm²)\n",
    "std_dev = 9.5  # Standard deviation (in kg/cm²)\n",
    "cutoff = 180.5  # Cutoff for defective cylinders (in kg/cm²)\n",
    "\n",
    "# Calculate the z-score for the cutoff value\n",
    "z = (cutoff - mean) / std_dev\n",
    "\n",
    "# Use the z-score to find the probability of being defective\n",
    "probability_defective = stats.norm.cdf(z)\n",
    "\n",
    "print(f\"Proportion of production expected to be defective: {probability_defective:.4f}\")"
   ]
  },
  {
   "cell_type": "markdown",
   "metadata": {},
   "source": [
    "**b) What is the probability that such a controlled cylinder has a compressive strength below 187.625 kg/cm²?**\n",
    "\n",
    "Now, let's find the probability that a controlled cylinder (already loaded with 180.5 kg/cm²) has a compressive strength below 187.625 kg/cm².\n",
    "\n",
    "First, standardize the controll load and target load of 180.5 kg/cm² and 187.625 kg/cm² to z-scores using the formula:\n",
    "\n",
    "$$Z = \\frac{Y - \\mu}{\\sigma}$$\n",
    "\n",
    "Now, calculate $P(Y < 187.625 | Y > 12)$:\n",
    "\n",
    "$$P(Y < 187.625 | Y > 180.5) = \\frac{P(Y < 187.625 \\cap Y > 180.5)}{P(Y > 180.5)}$$\n",
    "\n",
    "Using the properties of complimentary probability: \n",
    "\n",
    "$$\\frac{P(Y < 187.625 \\cap Y > 180.5)}{P(Y > 180.5)} = (\\frac{P(Y > 187.625)}{P(Y > 180.5)})^C$$\n",
    "\n",
    "So, we have:\n",
    "\n",
    "$$P(Y < 187.625 | Y > 12) = 1 - \\frac{P(Y > 187.625)}{P(Y > 180.5)}$$"
   ]
  },
  {
   "cell_type": "code",
   "execution_count": 204,
   "metadata": {},
   "outputs": [
    {
     "name": "stdout",
     "output_type": "stream",
     "text": [
      "Probability that a controlled cylinder has strength below 187.625 kg/cm²: 0.0922\n"
     ]
    }
   ],
   "source": [
    "controlled_load = 180.5  # Load applied to controlled cylinders (in kg/cm²)\n",
    "target_strength = 187.625  # Target compressive strength (in kg/cm²)\n",
    "\n",
    "# Calculate the z-score for the target strength\n",
    "z_controll = (controlled_load - mean) / std_dev\n",
    "z_target = (target_strength - mean) / std_dev\n",
    "\n",
    "# Use the z-score to find the probability\n",
    "probability_below_target = 1 - ((1 - stats.norm.cdf(z_target)) / (1 - stats.norm.cdf(z_controll)))\n",
    "\n",
    "print(f\"Probability that a controlled cylinder has strength below 187.625 kg/cm²: {probability_below_target:.4f}\")"
   ]
  },
  {
   "cell_type": "markdown",
   "metadata": {},
   "source": [
    "**c) What is the probability that a customer who buys 12 controlled cylinders gets at most 2 with a compressive strength below 187.625 kg/cm²?**\n",
    "\n",
    "To find the probability that a customer who buys 12 controlled cylinders gets at most 2 with a compressive strength below 187.625 kg/cm², we can use binomial distribution:\n",
    "\n",
    "$$P(X=k)=C\\binom{n}{k}\\cdot p^k \\cdot (1−p)^{n−k}$$\n",
    "\n",
    "where:\n",
    "- $n$ is the number of controlled cylinders: $12$\n",
    "- $k$ is the number of cylinders we are checking: $2$\n",
    "- $p$ is the probability of one cylinder being below target: *Ouput from previous code block*"
   ]
  },
  {
   "cell_type": "code",
   "execution_count": 191,
   "metadata": {},
   "outputs": [
    {
     "name": "stdout",
     "output_type": "stream",
     "text": [
      "Probability of getting at most 2 cylinders below 187.625 kg/cm²: 0.9083\n"
     ]
    }
   ],
   "source": [
    "n = 12  # Number of controlled cylinders purchased\n",
    "p = probability_below_target  # Probability of a single cylinder being below target\n",
    "\n",
    "# Use the cumulative distribution function (CDF) of the binomial distribution\n",
    "probability_at_most_2_below_target = stats.binom.cdf(2, n, p)\n",
    "\n",
    "print(f\"Probability of getting at most 2 cylinders below 187.625 kg/cm²: {probability_at_most_2_below_target:.4f}\")"
   ]
  }
 ],
 "metadata": {
  "kernelspec": {
   "display_name": "Python 3",
   "language": "python",
   "name": "python3"
  },
  "language_info": {
   "codemirror_mode": {
    "name": "ipython",
    "version": 3
   },
   "file_extension": ".py",
   "mimetype": "text/x-python",
   "name": "python",
   "nbconvert_exporter": "python",
   "pygments_lexer": "ipython3",
   "version": "3.11.5"
  },
  "orig_nbformat": 4
 },
 "nbformat": 4,
 "nbformat_minor": 2
}
